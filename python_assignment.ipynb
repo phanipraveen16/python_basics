{
 "cells": [
  {
   "cell_type": "markdown",
   "metadata": {},
   "source": [
    "# Assignment3 python programming"
   ]
  },
  {
   "cell_type": "code",
   "execution_count": 54,
   "metadata": {
    "collapsed": true
   },
   "outputs": [],
   "source": [
    "#defining function for first question\n",
    "def f1(x):\n",
    "    return 1 + (1/x)"
   ]
  },
  {
   "cell_type": "code",
   "execution_count": 55,
   "metadata": {
    "collapsed": true
   },
   "outputs": [],
   "source": [
    "#defining function for second question\n",
    "def f2(x):\n",
    "    return (((x**3)+2)/7)"
   ]
  },
  {
   "cell_type": "code",
   "execution_count": 56,
   "metadata": {
    "collapsed": true
   },
   "outputs": [],
   "source": [
    "#defining fixed point iteration method\n",
    "def fixed(a, f):\n",
    "    x2 = f(a)\n",
    "    error = x2 - a\n",
    "    if error <= 0.0005:\n",
    "        return x2\n",
    "    else:\n",
    "        a = x2\n",
    "        return fixed(a, f)"
   ]
  },
  {
   "cell_type": "code",
   "execution_count": 57,
   "metadata": {
    "collapsed": false
   },
   "outputs": [
    {
     "name": "stdout",
     "output_type": "stream",
     "text": [
      "root for first equation is: 1.5\n",
      "root for second equation is: 0.42857142857142855\n"
     ]
    }
   ],
   "source": [
    "#giving initial guess as a = 1\n",
    "a = 1\n",
    "root1 = fixed(a,f1)\n",
    "print(\"root for first equation is:\",root1)\n",
    "root2 = fixed(a,f2)\n",
    "print(\"root for second equation is:\",root2)"
   ]
  }
 ],
 "metadata": {
  "kernelspec": {
   "display_name": "Python 3",
   "language": "python",
   "name": "python3"
  },
  "language_info": {
   "codemirror_mode": {
    "name": "ipython",
    "version": 3
   },
   "file_extension": ".py",
   "mimetype": "text/x-python",
   "name": "python",
   "nbconvert_exporter": "python",
   "pygments_lexer": "ipython3",
   "version": "3.5.1+"
  }
 },
 "nbformat": 4,
 "nbformat_minor": 2
}
